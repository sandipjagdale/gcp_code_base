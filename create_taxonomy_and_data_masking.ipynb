{
 "cells": [
  {
   "cell_type": "markdown",
   "metadata": {},
   "source": [
    "This notebook is a step by step guide to create a taxonomy, policy tags, data masking rules and managing accesses to masking rules. As a pre-requisite, please create a table customer_data with 3 fields (id, name and driving license) with few rows to test.\n"
   ]
  },
  {
   "cell_type": "code",
   "execution_count": null,
   "metadata": {},
   "outputs": [],
   "source": [
    "#Lets import packages and define variables\n",
    "from google.cloud import datacatalog_v1\n",
    "from google.cloud import bigquery\n",
    "from google.cloud import bigquery_datapolicies_v1\n",
    "from google.cloud.bigquery_datapolicies_v1 import DataPolicyServiceClient\n",
    "from google.cloud.bigquery_datapolicies_v1.types import DataPolicy, DataMaskingPolicy\n",
    "from google.iam.v1 import iam_policy_pb2, policy_pb2\n",
    "\n",
    "\n",
    "project_id: str = \"your project\"\n",
    "location_id: str = \"your location\""
   ]
  },
  {
   "cell_type": "code",
   "execution_count": 8,
   "metadata": {},
   "outputs": [],
   "source": [
    "#create a single client for your program\n",
    "client = datacatalog_v1.PolicyTagManagerClient()\n",
    "\n",
    "# Construct a full location path to be the parent of the taxonomy.\n",
    "parent = datacatalog_v1.PolicyTagManagerClient.common_location_path(project_id, location_id)"
   ]
  },
  {
   "cell_type": "markdown",
   "metadata": {},
   "source": [
    "Lets create Taxonomy pii-sensitive-taxonomy"
   ]
  },
  {
   "cell_type": "code",
   "execution_count": null,
   "metadata": {},
   "outputs": [],
   "source": [
    "# Construct a full Taxonomy object to send to the API.\n",
    "taxonomy = datacatalog_v1.Taxonomy(\n",
    "    display_name = 'pii-sensitive-taxonomy',\n",
    "    description = \"This Taxonomy represents ...\")\n",
    "\n",
    "# Send the taxonomy to the API for creation.\n",
    "taxonomy = client.create_taxonomy(parent=parent, taxonomy=taxonomy)\n",
    "print(f\"Created taxonomy {taxonomy.display_name} : {taxonomy.name}\")"
   ]
  },
  {
   "cell_type": "markdown",
   "metadata": {},
   "source": [
    "Next we will create a first policy tag under pii-sensitive-taxonomy"
   ]
  },
  {
   "cell_type": "code",
   "execution_count": null,
   "metadata": {},
   "outputs": [],
   "source": [
    "#construct Catagory tag named \"high\" that is the severity category high\n",
    "policyTag = datacatalog_v1.types.PolicyTag( \n",
    "    name = \"high\",\n",
    "    display_name = \"high\",\n",
    "    description = 'Severity Category high')\n",
    "\n",
    "request = datacatalog_v1.CreatePolicyTagRequest(\n",
    "    parent=taxonomy.name,\n",
    "    policy_tag=policyTag)\n",
    "\n",
    "#create policy tag using request created above\n",
    "response = client.create_policy_tag(request=request)\n",
    "\n",
    "print(f\"Tag Created {response.display_name}: {response.name}\")"
   ]
  },
  {
   "cell_type": "markdown",
   "metadata": {},
   "source": [
    "Now lets create subtags in high category"
   ]
  },
  {
   "cell_type": "code",
   "execution_count": null,
   "metadata": {},
   "outputs": [],
   "source": [
    "\n",
    "#Use response of first tag to define \"high\" as a parent policy tag to create a subtag\n",
    "parent_tag_name = response.name\n",
    "\n",
    "#construct child tag\n",
    "child_tag = datacatalog_v1.PolicyTag(\n",
    "        name = \"driving_license\",\n",
    "        display_name=\"driving_license\",\n",
    "        parent_policy_tag=parent_tag_name\n",
    "    )\n",
    "\n",
    "#define request\n",
    "request = datacatalog_v1.CreatePolicyTagRequest(\n",
    "        parent=taxonomy.name,\n",
    "        policy_tag=child_tag\n",
    "    )\n",
    "  \n",
    "response = client.create_policy_tag(request=request)\n",
    "\n",
    "print(f\"Subtag created :{response.name}\")"
   ]
  },
  {
   "cell_type": "markdown",
   "metadata": {},
   "source": [
    "Next lets assign FineGrainedReader permissions to users who need access to raw data"
   ]
  },
  {
   "cell_type": "code",
   "execution_count": null,
   "metadata": {},
   "outputs": [],
   "source": [
    "resource = f'projects/{yourproject}/locations/{location}/taxonomies/{taxonomyid}/policyTags/{policyTagsid}'\n",
    "\n",
    "policy = client.get_iam_policy(resource=resource)\n",
    "binding = policy_pb2.Binding(\n",
    "        role='roles/datacatalog.categoryFineGrainedReader',\n",
    "        members=[f'user:{user_email}']\n",
    "    )\n",
    "policy.bindings.append(binding)\n",
    "    \n",
    "client.set_iam_policy(resource=resource, policy=policy)"
   ]
  },
  {
   "cell_type": "markdown",
   "metadata": {},
   "source": [
    "Next we will create data masking policy/rules for different type of users"
   ]
  },
  {
   "cell_type": "code",
   "execution_count": null,
   "metadata": {},
   "outputs": [],
   "source": [
    "#Lets create a Client and parent for request\n",
    "client = bigquery_datapolicies_v1.DataPolicyServiceClient()\n",
    "\n",
    "parent = f\"projects//{project_id}locations/us\""
   ]
  },
  {
   "cell_type": "code",
   "execution_count": null,
   "metadata": {},
   "outputs": [],
   "source": [
    "# Initialize request argument(s) for our data policy for Sales team who just need to see last 4 chars of driving lisence\n",
    "data_policy = bigquery_datapolicies_v1.DataPolicy()\n",
    "data_policy.name=\"pii_last_four\"\n",
    "data_policy.data_policy_id=\"pii_last_four\"\n",
    "data_policy.data_policy_type = \"DATA_MASKING_POLICY\"\n",
    "\n",
    "#Below use the policy tag id for child tag that we creadted above for driving_license\n",
    "data_policy.policy_tag = \"projects/{project_id}/locations/us/taxonomies/{taxonomy_id}/policyTags/{policyTagid}\"\n",
    "data_policy.data_masking_policy.predefined_expression = \"LAST_FOUR_CHARACTERS\"\n",
    "\n",
    "request = bigquery_datapolicies_v1.CreateDataPolicyRequest(\n",
    "        parent=parent,\n",
    "        data_policy=data_policy,\n",
    "    )\n",
    "\n",
    "# Make the request\n",
    "response = client.create_data_policy(request=request)\n",
    "\n",
    "# Handle the response\n",
    "print(response)"
   ]
  },
  {
   "cell_type": "code",
   "execution_count": null,
   "metadata": {},
   "outputs": [],
   "source": [
    "# Initialize request argument(s) for our data policy for Analytics team who do not need to see the original value but just the hash value\n",
    "data_policy = bigquery_datapolicies_v1.DataPolicy()\n",
    "data_policy.name=\"pii_hash\"\n",
    "data_policy.data_policy_id=\"pii_hash\"\n",
    "data_policy.data_policy_type = \"DATA_MASKING_POLICY\"\n",
    "data_policy.policy_tag = \"projects/{project_id}/locations/{location_id}/taxonomies/{taxonomy_id}/policyTags/{policyTagid}\"\n",
    "data_policy.data_masking_policy.predefined_expression = \"SHA256\"\n",
    "\n",
    "request = bigquery_datapolicies_v1.CreateDataPolicyRequest(\n",
    "        parent=parent,\n",
    "        data_policy=data_policy,\n",
    "    )\n",
    "\n",
    "# Make the request\n",
    "response = client.create_data_policy(request=request)\n",
    "\n",
    "# Handle the response\n",
    "print(response)"
   ]
  },
  {
   "cell_type": "markdown",
   "metadata": {},
   "source": [
    "Now lets assign bigquerydatapolicy.maskedReader permissions to different users"
   ]
  },
  {
   "cell_type": "code",
   "execution_count": null,
   "metadata": {},
   "outputs": [],
   "source": [
    "resource = f\"projects/{project_id}/locations/{location_id}/dataPolicies/pii_last_four\"\n",
    "policy = policy_pb2.Policy(\n",
    "        bindings=[\n",
    "            policy_pb2.Binding(\n",
    "                role=\"roles/bigquerydatapolicy.maskedReader\",\n",
    "                members=[\"serviceAccount:youser service account\"]\n",
    "            )\n",
    "        ]\n",
    "    )\n",
    "\n",
    "# Initialize request argument(s)\n",
    "request = iam_policy_pb2.SetIamPolicyRequest(\n",
    "    resource=resource,\n",
    "    policy=policy\n",
    "    )\n",
    "\n",
    "response = client.set_iam_policy(request=request)\n",
    "\n",
    "print(f\"Updated IAM policy for resource {resource}: {response}\")\n",
    "\n",
    "#Repeat above for different data policy and different service accounts as needed"
   ]
  },
  {
   "cell_type": "markdown",
   "metadata": {},
   "source": [
    "Now Lets run queries to test permissions"
   ]
  },
  {
   "cell_type": "code",
   "execution_count": null,
   "metadata": {},
   "outputs": [],
   "source": [
    "from google.cloud import bigquery\n",
    "import pandas as pd\n",
    "import os\n",
    "\n",
    "#authenticate using service account or use different uers as needed\n",
    "#os.environ['GOOGLE_APPLICATION_CREDENTIALS'] = 'your_json filr.json'\n",
    "\n",
    "# Construct a BigQuery client object.\n",
    "client = bigquery.Client(project=\"your_project\")\n",
    "\n",
    "query = (\n",
    "    \"SELECT customer_name, customer_driving_license FROM your_dataset.customer_data\"\n",
    ")\n",
    "\n",
    "# Set use_legacy_sql to True to use legacy SQL syntax.\n",
    "job_config = bigquery.QueryJobConfig(use_legacy_sql=False)\n",
    "\n",
    "# Start the query and waits for query job to complete, passing in the extra configuration.\n",
    "results = client.query_and_wait(\n",
    "    query, job_config=job_config\n",
    ")  # Make an API request.\n",
    "\n",
    "# Convert the results to a pandas DataFrame\n",
    "df = results.to_dataframe()\n",
    "\n",
    "# Print the DataFrame as a table\n",
    "print(df)"
   ]
  }
 ],
 "metadata": {
  "kernelspec": {
   "display_name": "Python 3",
   "language": "python",
   "name": "python3"
  },
  "language_info": {
   "codemirror_mode": {
    "name": "ipython",
    "version": 3
   },
   "file_extension": ".py",
   "mimetype": "text/x-python",
   "name": "python",
   "nbconvert_exporter": "python",
   "pygments_lexer": "ipython3",
   "version": "3.10.5"
  }
 },
 "nbformat": 4,
 "nbformat_minor": 2
}
