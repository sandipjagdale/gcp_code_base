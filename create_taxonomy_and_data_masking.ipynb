{
 "cells": [
  {
   "cell_type": "code",
   "execution_count": 6,
   "metadata": {},
   "outputs": [],
   "source": [
    "#Lets import packages and define variables\n",
    "from google.cloud import datacatalog_v1\n",
    "\n",
    "project_id: str = \"your project\"\n",
    "location_id: str = \"your location\""
   ]
  },
  {
   "cell_type": "code",
   "execution_count": 8,
   "metadata": {},
   "outputs": [],
   "source": [
    "#create a single client for your program\n",
    "client = datacatalog_v1.PolicyTagManagerClient()\n",
    "\n",
    "# Construct a full location path to be the parent of the taxonomy.\n",
    "parent = datacatalog_v1.PolicyTagManagerClient.common_location_path(project_id, location_id)"
   ]
  },
  {
   "cell_type": "markdown",
   "metadata": {},
   "source": [
    "Lets create Taxonomy pii-sensitive-taxonomy"
   ]
  },
  {
   "cell_type": "code",
   "execution_count": null,
   "metadata": {},
   "outputs": [],
   "source": [
    "# Construct a full Taxonomy object to send to the API.\n",
    "taxonomy = datacatalog_v1.Taxonomy(\n",
    "    display_name = 'pii-sensitive-taxonomy',\n",
    "    description = \"This Taxonomy represents ...\")\n",
    "\n",
    "# Send the taxonomy to the API for creation.\n",
    "taxonomy = client.create_taxonomy(parent=parent, taxonomy=taxonomy)\n",
    "print(f\"Created taxonomy {taxonomy.display_name} : {taxonomy.name}\")"
   ]
  },
  {
   "cell_type": "markdown",
   "metadata": {},
   "source": [
    "Next we will create a first policy tag under pii-sensitive-taxonomy"
   ]
  },
  {
   "cell_type": "code",
   "execution_count": null,
   "metadata": {},
   "outputs": [],
   "source": [
    "#construct Catagory tag named \"high\" that is the severity category high\n",
    "policyTag = datacatalog_v1.types.PolicyTag( \n",
    "    name = \"high\",\n",
    "    display_name = \"high\",\n",
    "    description = 'Severity Category high')\n",
    "\n",
    "request = datacatalog_v1.CreatePolicyTagRequest(\n",
    "    parent=taxonomy.name,\n",
    "    policy_tag=policyTag)\n",
    "\n",
    "#create policy tag using request created above\n",
    "response = client.create_policy_tag(request=request)\n",
    "\n",
    "print(f\"Tag Created {response.display_name}: {response.name}\")"
   ]
  },
  {
   "cell_type": "markdown",
   "metadata": {},
   "source": [
    "Create subtags in high category"
   ]
  },
  {
   "cell_type": "code",
   "execution_count": null,
   "metadata": {},
   "outputs": [],
   "source": [
    "\n",
    "#Use response of first tag to define \"high\" as a parent policy tag to create a subtag\n",
    "parent_tag_name = response.name\n",
    "\n",
    "#construct child tag\n",
    "child_tag = datacatalog_v1.PolicyTag(\n",
    "        name = \"driving_license\",\n",
    "        display_name=\"driving_license\",\n",
    "        parent_policy_tag=parent_tag_name\n",
    "    )\n",
    "\n",
    "#define request\n",
    "request = datacatalog_v1.CreatePolicyTagRequest(\n",
    "        parent=taxonomy.name,\n",
    "        policy_tag=child_tag\n",
    "    )\n",
    "  \n",
    "response = client.create_policy_tag(request=request)\n",
    "\n",
    "print(f\"Subtag created :{response.name}\")"
   ]
  },
  {
   "cell_type": "markdown",
   "metadata": {},
   "source": [
    "Lets creare data masking policy"
   ]
  },
  {
   "cell_type": "code",
   "execution_count": null,
   "metadata": {},
   "outputs": [],
   "source": [
    "#Lets import packages and define variables for data masking rules\n",
    "from google.cloud import bigquery\n",
    "from google.cloud import bigquery_datapolicies_v1\n",
    "from google.cloud.bigquery_datapolicies_v1 import DataPolicyServiceClient\n",
    "from google.cloud.bigquery_datapolicies_v1.types import DataPolicy, DataMaskingPolicy\n",
    "\n",
    "#Lets create a Client and parent for request\n",
    "client = bigquery_datapolicies_v1.DataPolicyServiceClient()\n",
    "\n",
    "parent = f\"projects//{project_id}locations/us\""
   ]
  },
  {
   "cell_type": "code",
   "execution_count": null,
   "metadata": {},
   "outputs": [],
   "source": [
    "# Initialize request argument(s) for our data policy for Sales team who just need to see last 4 chars of driving lisence\n",
    "data_policy = bigquery_datapolicies_v1.DataPolicy()\n",
    "data_policy.name=\"pii_last_four\"\n",
    "data_policy.data_policy_id=\"pii_last_four\"\n",
    "data_policy.data_policy_type = \"DATA_MASKING_POLICY\"\n",
    "\n",
    "#Below use the policy tag id for child tag that we creadted above for driving_license\n",
    "data_policy.policy_tag = \"projects/{project_id}/locations/us/taxonomies/{taxonomy_id}/policyTags/{policyTagid}\"\n",
    "data_policy.data_masking_policy.predefined_expression = \"LAST_FOUR_CHARACTERS\"\n",
    "\n",
    "request = bigquery_datapolicies_v1.CreateDataPolicyRequest(\n",
    "        parent=parent,\n",
    "        data_policy=data_policy,\n",
    "    )\n",
    "\n",
    "# Make the request\n",
    "response = client.create_data_policy(request=request)\n",
    "\n",
    "# Handle the response\n",
    "print(response)"
   ]
  },
  {
   "cell_type": "code",
   "execution_count": null,
   "metadata": {},
   "outputs": [],
   "source": [
    "# Initialize request argument(s) for our data policy for Analysts team who do not need to see the original value but just the hash value\n",
    "data_policy = bigquery_datapolicies_v1.DataPolicy()\n",
    "data_policy.name=\"pii_hash\"\n",
    "data_policy.data_policy_id=\"pii_hash\"\n",
    "data_policy.data_policy_type = \"DATA_MASKING_POLICY\"\n",
    "data_policy.policy_tag = \"projects/{project_id}/locations/us/taxonomies/{taxonomy_id}/policyTags/{policyTagid}\"\n",
    "data_policy.data_masking_policy.predefined_expression = \"SHA256\"\n",
    "\n",
    "request = bigquery_datapolicies_v1.CreateDataPolicyRequest(\n",
    "        parent=parent,\n",
    "        data_policy=data_policy,\n",
    "    )\n",
    "\n",
    "# Make the request\n",
    "response = client.create_data_policy(request=request)\n",
    "\n",
    "# Handle the response\n",
    "print(response)"
   ]
  }
 ],
 "metadata": {
  "kernelspec": {
   "display_name": "Python 3",
   "language": "python",
   "name": "python3"
  },
  "language_info": {
   "codemirror_mode": {
    "name": "ipython",
    "version": 3
   },
   "file_extension": ".py",
   "mimetype": "text/x-python",
   "name": "python",
   "nbconvert_exporter": "python",
   "pygments_lexer": "ipython3",
   "version": "3.10.5"
  }
 },
 "nbformat": 4,
 "nbformat_minor": 2
}
