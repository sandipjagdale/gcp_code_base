{
 "cells": [
  {
   "cell_type": "code",
   "execution_count": 6,
   "metadata": {},
   "outputs": [],
   "source": [
    "#Lets import packages and define variables\n",
    "from google.cloud import datacatalog_v1\n",
    "\n",
    "project_id: str = \"your project\"\n",
    "location_id: str = \"your location\""
   ]
  },
  {
   "cell_type": "code",
   "execution_count": 8,
   "metadata": {},
   "outputs": [],
   "source": [
    "#create a single client for your program\n",
    "client = datacatalog_v1.PolicyTagManagerClient()\n",
    "\n",
    "# Construct a full location path to be the parent of the taxonomy.\n",
    "parent = datacatalog_v1.PolicyTagManagerClient.common_location_path(project_id, location_id)"
   ]
  },
  {
   "cell_type": "markdown",
   "metadata": {},
   "source": [
    "Lets create Taxonomy pii-sensitive-taxonomy"
   ]
  },
  {
   "cell_type": "code",
   "execution_count": 3,
   "metadata": {},
   
   "source": [
    "# Construct a full Taxonomy object to send to the API.\n",
    "taxonomy = datacatalog_v1.Taxonomy(\n",
    "    display_name = 'pii-sensitive-taxonomy',\n",
    "    description = \"This Taxonomy represents ...\")\n",
    "\n",
    "# Send the taxonomy to the API for creation.\n",
    "taxonomy = client.create_taxonomy(parent=parent, taxonomy=taxonomy)\n",
    "print(f\"Created taxonomy {taxonomy.display_name} : {taxonomy.name}\")"
   ]
  },
  {
   "cell_type": "markdown",
   "metadata": {},
   "source": [
    "Next we will create a first policy tag under pii-sensitive-taxonomy"
   ]
  },
  {
   "cell_type": "code",
   "execution_count": 4,
   "metadata": {},
   "outputs": [
    {
     "name": "stdout",
     "output_type": "stream",
     "text": [
      "Tag Created high: projects/prj-gousenaid-dlak-res01/locations/us/taxonomies/8287803005171206245/policyTags/3725424114798676092\n"
     ]
    }
   ],
   "source": [
    "#construct Catagory tag named \"high\" that is the severity category high\n",
    "policyTag = datacatalog_v1.types.PolicyTag( \n",
    "    name = \"high\",\n",
    "    display_name = \"high\",\n",
    "    description = 'Severity Category high')\n",
    "\n",
    "request = datacatalog_v1.CreatePolicyTagRequest(\n",
    "    parent=taxonomy.name,\n",
    "    policy_tag=policyTag)\n",
    "\n",
    "#create policy tag using request created above\n",
    "response = client.create_policy_tag(request=request)\n",
    "\n",
    "print(f\"Tag Created {response.display_name}: {response.name}\")"
   ]
  },
  {
   "cell_type": "markdown",
   "metadata": {},
   "source": [
    "Create subtags in high category"
   ]
  },
  {
   "cell_type": "code",
   "execution_count": 5,
   "metadata": {},
   "outputs": [
    {
     "name": "stdout",
     "output_type": "stream",
     "text": [
      "Subtag created :projects/prj-gousenaid-dlak-res01/locations/us/taxonomies/8287803005171206245/policyTags/2595403380570734755\n"
     ]
    }
   ],
   "source": [
    "\n",
    "#Use response of first tag to define \"high\" as a parent policy tag to create a subtag\n",
    "parent_tag_name = response.name\n",
    "\n",
    "#construct child tag\n",
    "child_tag = datacatalog_v1.PolicyTag(\n",
    "        name = \"driving_license\",\n",
    "        display_name=\"driving_license\",\n",
    "        parent_policy_tag=parent_tag_name\n",
    "    )\n",
    "\n",
    "#define request\n",
    "request = datacatalog_v1.CreatePolicyTagRequest(\n",
    "        parent=taxonomy.name,\n",
    "        policy_tag=child_tag\n",
    "    )\n",
    "  \n",
    "response = client.create_policy_tag(request=request)\n",
    "\n",
    "print(f\"Subtag created :{response.name}\")"
   ]
  }
 ],
 "metadata": {
  "kernelspec": {
   "display_name": "Python 3",
   "language": "python",
   "name": "python3"
  },
  "language_info": {
   "codemirror_mode": {
    "name": "ipython",
    "version": 3
   },
   "file_extension": ".py",
   "mimetype": "text/x-python",
   "name": "python",
   "nbconvert_exporter": "python",
   "pygments_lexer": "ipython3",
   "version": "3.12.3"
  }
 },
 "nbformat": 4,
 "nbformat_minor": 2
}
